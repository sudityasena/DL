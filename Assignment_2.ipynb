{
  "nbformat": 4,
  "nbformat_minor": 0,
  "metadata": {
    "colab": {
      "provenance": [],
      "gpuType": "T4"
    },
    "kernelspec": {
      "name": "python3",
      "display_name": "Python 3"
    },
    "language_info": {
      "name": "python"
    },
    "accelerator": "GPU"
  },
  "cells": [
    {
      "cell_type": "code",
      "execution_count": 2,
      "metadata": {
        "id": "ia1i6sAhFzQB"
      },
      "outputs": [],
      "source": [
        "import numpy as np\n",
        "import tensorflow as tf\n",
        "from tensorflow.keras.datasets import cifar10\n",
        "from tensorflow.keras.applications import VGG16\n",
        "from tensorflow.keras.models import Sequential\n",
        "from tensorflow.keras.layers import Flatten, Dense, Dropout\n",
        "from tensorflow.keras.optimizers import Adam\n",
        "from sklearn.model_selection import train_test_split\n",
        "from sklearn.metrics import accuracy_score, classification_report"
      ]
    },
    {
      "cell_type": "code",
      "source": [
        "(X_train, y_train), (X_test, y_test) = cifar10.load_data()\n",
        "X_train, X_val, y_train, y_val = train_test_split(X_train, y_train, test_size=0.2, random_state=42)"
      ],
      "metadata": {
        "colab": {
          "base_uri": "https://localhost:8080/"
        },
        "id": "DCwPNLwrF7W4",
        "outputId": "832377ff-c862-4ec5-bebe-f8da484d6fed"
      },
      "execution_count": 3,
      "outputs": [
        {
          "output_type": "stream",
          "name": "stdout",
          "text": [
            "Downloading data from https://www.cs.toronto.edu/~kriz/cifar-10-python.tar.gz\n",
            "170498071/170498071 [==============================] - 15s 0us/step\n"
          ]
        }
      ]
    },
    {
      "cell_type": "code",
      "source": [
        "X_train = X_train.astype('float32') / 255.0\n",
        "X_val = X_val.astype('float32') / 255.0\n",
        "X_test = X_test.astype('float32') / 255.0"
      ],
      "metadata": {
        "id": "8K_v7oGqGQuX"
      },
      "execution_count": 4,
      "outputs": []
    },
    {
      "cell_type": "code",
      "source": [
        "base_model = VGG16(weights='imagenet', include_top=False, input_shape=(32, 32, 3))"
      ],
      "metadata": {
        "colab": {
          "base_uri": "https://localhost:8080/"
        },
        "id": "u26fjtJ4GWdY",
        "outputId": "2ec4c119-d2d1-496e-e3d8-695db03927da"
      },
      "execution_count": 5,
      "outputs": [
        {
          "output_type": "stream",
          "name": "stdout",
          "text": [
            "Downloading data from https://storage.googleapis.com/tensorflow/keras-applications/vgg16/vgg16_weights_tf_dim_ordering_tf_kernels_notop.h5\n",
            "58889256/58889256 [==============================] - 4s 0us/step\n"
          ]
        }
      ]
    },
    {
      "cell_type": "code",
      "source": [
        "for layer in base_model.layers:\n",
        "    layer.trainable = False"
      ],
      "metadata": {
        "id": "obeGqWo3GZfs"
      },
      "execution_count": 6,
      "outputs": []
    },
    {
      "cell_type": "code",
      "source": [
        "model = Sequential([\n",
        "    base_model,\n",
        "    Flatten(),\n",
        "    Dense(512, activation='relu'),\n",
        "    Dropout(0.5),\n",
        "    Dense(10, activation='softmax')  # Output layer for 10 classes in CIFAR-10\n",
        "])"
      ],
      "metadata": {
        "id": "TvbaYszcGcXX"
      },
      "execution_count": 7,
      "outputs": []
    },
    {
      "cell_type": "code",
      "source": [
        "model.compile(optimizer=Adam(lr=1e-4), loss='sparse_categorical_crossentropy', metrics=['accuracy'])"
      ],
      "metadata": {
        "colab": {
          "base_uri": "https://localhost:8080/"
        },
        "id": "1I3bQTd5GfHY",
        "outputId": "bf3e8c2d-b06e-472e-a3c3-4f285c0893b6"
      },
      "execution_count": 8,
      "outputs": [
        {
          "output_type": "stream",
          "name": "stderr",
          "text": [
            "WARNING:absl:`lr` is deprecated in Keras optimizer, please use `learning_rate` or use the legacy optimizer, e.g.,tf.keras.optimizers.legacy.Adam.\n"
          ]
        }
      ]
    },
    {
      "cell_type": "code",
      "source": [
        "history = model.fit(\n",
        "    X_train, y_train,\n",
        "    epochs=10,\n",
        "    batch_size=32,\n",
        "    validation_data=(X_val, y_val),\n",
        "    verbose=1\n",
        ")"
      ],
      "metadata": {
        "colab": {
          "base_uri": "https://localhost:8080/"
        },
        "id": "1xGd77O9GhwK",
        "outputId": "d0481f76-d470-4e1a-f090-1bdba9947161"
      },
      "execution_count": 9,
      "outputs": [
        {
          "output_type": "stream",
          "name": "stdout",
          "text": [
            "Epoch 1/10\n",
            "1250/1250 [==============================] - 23s 10ms/step - loss: 1.4720 - accuracy: 0.4814 - val_loss: 1.2509 - val_accuracy: 0.5624\n",
            "Epoch 2/10\n",
            "1250/1250 [==============================] - 12s 10ms/step - loss: 1.2841 - accuracy: 0.5488 - val_loss: 1.1969 - val_accuracy: 0.5796\n",
            "Epoch 3/10\n",
            "1250/1250 [==============================] - 12s 10ms/step - loss: 1.2273 - accuracy: 0.5695 - val_loss: 1.1872 - val_accuracy: 0.5811\n",
            "Epoch 4/10\n",
            "1250/1250 [==============================] - 12s 10ms/step - loss: 1.1950 - accuracy: 0.5817 - val_loss: 1.1644 - val_accuracy: 0.5897\n",
            "Epoch 5/10\n",
            "1250/1250 [==============================] - 12s 10ms/step - loss: 1.1663 - accuracy: 0.5894 - val_loss: 1.1557 - val_accuracy: 0.5958\n",
            "Epoch 6/10\n",
            "1250/1250 [==============================] - 13s 10ms/step - loss: 1.1340 - accuracy: 0.6020 - val_loss: 1.1358 - val_accuracy: 0.6021\n",
            "Epoch 7/10\n",
            "1250/1250 [==============================] - 13s 10ms/step - loss: 1.1163 - accuracy: 0.6050 - val_loss: 1.1099 - val_accuracy: 0.6082\n",
            "Epoch 8/10\n",
            "1250/1250 [==============================] - 13s 10ms/step - loss: 1.0958 - accuracy: 0.6152 - val_loss: 1.1099 - val_accuracy: 0.6158\n",
            "Epoch 9/10\n",
            "1250/1250 [==============================] - 13s 10ms/step - loss: 1.0755 - accuracy: 0.6240 - val_loss: 1.1199 - val_accuracy: 0.6117\n",
            "Epoch 10/10\n",
            "1250/1250 [==============================] - 13s 10ms/step - loss: 1.0577 - accuracy: 0.6279 - val_loss: 1.1157 - val_accuracy: 0.6149\n"
          ]
        }
      ]
    },
    {
      "cell_type": "code",
      "source": [],
      "metadata": {
        "id": "LgL88WXbGlD9"
      },
      "execution_count": null,
      "outputs": []
    }
  ]
}